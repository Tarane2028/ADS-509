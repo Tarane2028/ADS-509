{
  "cells": [
    {
      "cell_type": "markdown",
      "id": "95952cac",
      "metadata": {
        "id": "95952cac"
      },
      "source": [
        "# ADS 509 Module 1: APIs and Web Scraping\n",
        "\n",
        "This notebook has two parts. In the first part, you will scrape lyrics from AZLyrics.com. In the second part, you'll run code that verifies the completeness of your data pull.\n",
        "\n",
        "For this assignment you have chosen two musical artists who have at least 20 songs with lyrics on AZLyrics.com. We start with pulling some information and analyzing them.\n"
      ]
    },
    {
      "cell_type": "markdown",
      "id": "069b7ae8",
      "metadata": {
        "id": "069b7ae8"
      },
      "source": [
        "## General Assignment Instructions\n",
        "\n",
        "These instructions are included in every assignment, to remind you of the coding standards for the class. Feel free to delete this cell after reading it.\n",
        "\n",
        "One sign of mature code is conforming to a style guide. We recommend the [Google Python Style Guide](https://google.github.io/styleguide/pyguide.html). If you use a different style guide, please include a cell with a link.\n",
        "\n",
        "Your code should be relatively easy-to-read, sensibly commented, and clean. Writing code is a messy process, so please be sure to edit your final submission. Remove any cells that are not needed or parts of cells that contain unnecessary code. Remove inessential `import` statements and make sure that all such statements are moved into the designated cell.\n",
        "\n",
        "Make use of non-code cells for written commentary. These cells should be grammatical and clearly written. In some of these cells you will have questions to answer. The questions will be marked by a \"Q:\" and will have a corresponding \"A:\" spot for you. *Make sure to answer every question marked with a `Q:` for full credit.*\n"
      ]
    },
    {
      "cell_type": "markdown",
      "id": "91c8969e",
      "metadata": {
        "id": "91c8969e"
      },
      "source": [
        "# Importing Libraries"
      ]
    },
    {
      "cell_type": "code",
      "execution_count": 27,
      "id": "185076b0",
      "metadata": {
        "id": "185076b0"
      },
      "outputs": [],
      "source": [
        "import os\n",
        "import datetime\n",
        "import re\n",
        "\n",
        "# for the lyrics scrape section\n",
        "import requests\n",
        "import time\n",
        "from bs4 import BeautifulSoup\n",
        "from collections import defaultdict, Counter\n",
        "import random"
      ]
    },
    {
      "cell_type": "code",
      "execution_count": 10,
      "id": "a47e2d5f",
      "metadata": {
        "id": "a47e2d5f"
      },
      "outputs": [],
      "source": [
        "HEADERS = {'User-Agent': 'Mozilla/5.0'}"
      ]
    },
    {
      "cell_type": "markdown",
      "id": "45c13af3",
      "metadata": {
        "id": "45c13af3"
      },
      "source": [
        "---\n",
        "\n",
        "# Lyrics Scrape\n",
        "\n",
        "This section asks you to pull data by scraping www.AZLyrics.com. In the notebooks where you do that work you are asked to store the data in specific ways."
      ]
    },
    {
      "cell_type": "code",
      "execution_count": 28,
      "id": "5bd7df77",
      "metadata": {
        "id": "5bd7df77"
      },
      "outputs": [],
      "source": [
        "artists = {\n",
        "    'billie_eilish': 'https://www.azlyrics.com/b/billieeilish.html',\n",
        "    'adele':         'https://www.azlyrics.com/a/adele.html'\n",
        "}"
      ]
    },
    {
      "cell_type": "markdown",
      "id": "c236c99b",
      "metadata": {
        "id": "c236c99b"
      },
      "source": [
        "## A Note on Rate Limiting\n",
        "\n",
        "The lyrics site, www.azlyrics.com, does not have an explicit maximum on number of requests in any one time, but in our testing it appears that too many requests in too short a time will cause the site to stop returning lyrics pages. (Entertainingly, the page that gets returned seems to only have the song title to [a Tom Jones song](https://www.azlyrics.com/lyrics/tomjones/itsnotunusual.html).)\n",
        "\n",
        "Whenever you call `requests.get` to retrieve a page, put a `time.sleep(5 + 10*random.random())` on the next line. This will help you not to get blocked. If you _do_ get blocked, which you can identify if the returned pages are not correct, just request a lyrics page through your browser. You'll be asked to perform a CAPTCHA and then your requests should start working again.\n",
        "\n",
        "## Part 1: Finding Links to Songs Lyrics\n",
        "\n",
        "That general artist page has a list of all songs for that artist with links to the individual song pages.\n",
        "\n",
        "Q: Take a look at the `robots.txt` page on www.azlyrics.com. (You can read more about these pages [here](https://developers.google.com/search/docs/advanced/robots/intro).) Is the scraping we are about to do allowed or disallowed by this page? How do you know?\n",
        "\n",
        "A: <!-- Delete this comment and put your answer here. -->\n"
      ]
    },
    {
      "cell_type": "code",
      "execution_count": 29,
      "id": "ac9d31ec",
      "metadata": {
        "colab": {
          "base_uri": "https://localhost:8080/"
        },
        "id": "ac9d31ec",
        "outputId": "c57218df-7226-4eec-9971-78408c0ee436"
      },
      "outputs": [
        {
          "output_type": "stream",
          "name": "stdout",
          "text": [
            "billie_eilish: found 80 songs\n",
            "adele: found 71 songs\n"
          ]
        }
      ],
      "source": [
        "lyrics_pages = defaultdict(list)\n",
        "\n",
        "\n",
        "for artist, artist_url in artists.items():\n",
        "    # Fetch the artist page\n",
        "    resp = requests.get(artist_url, headers=HEADERS)\n",
        "    resp.raise_for_status()\n",
        "\n",
        "    # Parse the page HTML\n",
        "    soup = BeautifulSoup(resp.text, 'html.parser')\n",
        "\n",
        "    # Find every <div class=\"listalbum-item\"> (each holds one song link)\n",
        "    song_divs = soup.find_all('div', class_='listalbum-item')\n",
        "\n",
        "    # Pull the <a> inside each div, build the full URL, and store it\n",
        "    for div in song_divs:\n",
        "        a_tag = div.find('a')                                # the <a href=\"../lyrics/...\">\n",
        "        rel_link = a_tag['href']                             # e.g. \"../lyrics/billieeilish/bad-guy.html\"\n",
        "        full_url = 'https://www.azlyrics.com' + rel_link.replace('..', '')\n",
        "        lyrics_pages[artist].append(full_url)\n",
        "\n",
        "    # Report how many songs we found\n",
        "    print(f\"{artist}: found {len(lyrics_pages[artist])} songs\")"
      ]
    },
    {
      "cell_type": "markdown",
      "id": "9c285ec1",
      "metadata": {
        "id": "9c285ec1"
      },
      "source": [
        "Let's make sure we have enough lyrics pages to scrape."
      ]
    },
    {
      "cell_type": "code",
      "execution_count": 13,
      "id": "ae4cda68",
      "metadata": {
        "id": "ae4cda68"
      },
      "outputs": [],
      "source": [
        "for artist, urls in lyrics_pages.items():\n",
        "    assert len(urls) >= 20, f\"Only {len(urls)} URLs found for {artist}\""
      ]
    },
    {
      "cell_type": "code",
      "execution_count": 14,
      "id": "edca10d6",
      "metadata": {
        "colab": {
          "base_uri": "https://localhost:8080/"
        },
        "id": "edca10d6",
        "outputId": "bc6bd06e-33f7-4981-cf23-cc4365b433c3"
      },
      "outputs": [
        {
          "output_type": "stream",
          "name": "stdout",
          "text": [
            "For billie_eilish we have 80.\n",
            "The full pull will take for this artist will take 0.22 hours.\n",
            "For adele we have 71.\n",
            "The full pull will take for this artist will take 0.2 hours.\n"
          ]
        }
      ],
      "source": [
        "# Let's see how long it's going to take to pull these lyrics\n",
        "# if we're waiting `5 + 10*random.random()` seconds\n",
        "for artist, urls in lyrics_pages.items():\n",
        "    print(f\"For {artist} we have {len(urls)}.\")\n",
        "    print(f\"The full pull will take for this artist will take {round(len(urls)*10/3600,2)} hours.\")"
      ]
    },
    {
      "cell_type": "markdown",
      "id": "011be6c6",
      "metadata": {
        "id": "011be6c6"
      },
      "source": [
        "## Part 2: Pulling Lyrics\n",
        "\n",
        "Now that we have the links to our lyrics pages, let's go scrape them! Here are the steps for this part.\n",
        "\n",
        "1. Create an empty folder in our repo called \"lyrics\".\n",
        "1. Iterate over the artists in `lyrics_pages`.\n",
        "1. Create a subfolder in lyrics with the artist's name. For instance, if the artist was Cher you'd have `lyrics/cher/` in your repo.\n",
        "1. Iterate over the pages.\n",
        "1. Request the page and extract the lyrics from the returned HTML file using BeautifulSoup.\n",
        "1. Use the function below, `generate_filename_from_url`, to create a filename based on the lyrics page, then write the lyrics to a text file with that name.\n"
      ]
    },
    {
      "cell_type": "code",
      "execution_count": 15,
      "id": "67693711",
      "metadata": {
        "id": "67693711"
      },
      "outputs": [],
      "source": [
        "def generate_filename_from_link(link) :\n",
        "\n",
        "    if not link :\n",
        "        return None\n",
        "\n",
        "    # drop the http or https and the html\n",
        "    name = link.replace(\"https\",\"\").replace(\"http\",\"\")\n",
        "    name = link.replace(\".html\",\"\")\n",
        "\n",
        "    name = name.replace(\"/lyrics/\",\"\")\n",
        "\n",
        "    # Replace useless chareacters with UNDERSCORE\n",
        "    name = name.replace(\"://\",\"\").replace(\".\",\"_\").replace(\"/\",\"_\")\n",
        "\n",
        "    # tack on .txt\n",
        "    name = name + \".txt\"\n",
        "\n",
        "    return(name)\n"
      ]
    },
    {
      "cell_type": "code",
      "execution_count": 16,
      "id": "94a78c78",
      "metadata": {
        "id": "94a78c78"
      },
      "outputs": [],
      "source": [
        "# Make the lyrics folder here. If you'd like to practice your programming, add functionality\n",
        "# that checks to see if the folder exists. If it does, then use shutil.rmtree to remove it and create a new one.\n",
        "\n",
        "if os.path.isdir(\"lyrics\") :\n",
        "    shutil.rmtree(\"lyrics/\")\n",
        "\n",
        "os.mkdir(\"lyrics\")"
      ]
    },
    {
      "cell_type": "code",
      "execution_count": 25,
      "id": "d655b687",
      "metadata": {
        "colab": {
          "base_uri": "https://localhost:8080/"
        },
        "id": "d655b687",
        "outputId": "7a00d79e-a7c7-4d07-b3ef-0013c453441b"
      },
      "outputs": [
        {
          "metadata": {
            "tags": null
          },
          "name": "stdout",
          "output_type": "stream",
          "text": [
            "billie_eilish: saved 55 lyrics files\n",
            "adele: saved 20 lyrics files\n"
          ]
        }
      ],
      "source": [
        "url_stub = \"https://www.azlyrics.com\"\n",
        "start = time.time()\n",
        "\n",
        "total_pages = 0\n",
        "\n",
        "for artist, urls in lyrics_pages.items():\n",
        "    # Create a subfolder for this artist\n",
        "    artist_dir = os.path.join(\"lyrics\", artist)\n",
        "    os.makedirs(artist_dir, exist_ok=True)\n",
        "\n",
        "    for link in urls[:20]:\n",
        "\n",
        "\n",
        "        # Fetch the page (polite pause before each request)\n",
        "        time.sleep(5 + 10 * random.random())\n",
        "        resp = requests.get(link, headers=HEADERS)\n",
        "        resp.raise_for_status()\n",
        "\n",
        "        # Parse out the lyrics\n",
        "        page_soup = BeautifulSoup(resp.text, 'html.parser')\n",
        "        lyrics_div = page_soup.find_all('div', attrs={'class': None, 'id': None})[0]\n",
        "        lyrics_text = lyrics_div.get_text(separator='\\n').strip()\n",
        "\n",
        "        # Build filename, then write title + two newlines + lyrics\n",
        "        filename = generate_filename_from_link(link)\n",
        "        out_path = os.path.join(artist_dir, filename)\n",
        "        with open(out_path, 'w', encoding='utf-8') as f:\n",
        "            # title is the first line of the lyrics block (optional)\n",
        "            title = lyrics_text.split('\\n', 1)[0]\n",
        "            f.write(title + \"\\n\\n\" + lyrics_text)\n",
        "\n",
        "    # Report how many songs we saved for this artist\n",
        "    saved = len(os.listdir(artist_dir))\n",
        "    print(f\"{artist}: saved {saved} lyrics files\")"
      ]
    },
    {
      "cell_type": "code",
      "execution_count": 31,
      "id": "36c394f1",
      "metadata": {
        "colab": {
          "base_uri": "https://localhost:8080/"
        },
        "id": "36c394f1",
        "outputId": "d028af66-3583-426e-bafc-3afa12a94243"
      },
      "outputs": [
        {
          "output_type": "stream",
          "name": "stdout",
          "text": [
            "Total run time: 0.38 hours across 0 pages.\n"
          ]
        }
      ],
      "source": [
        "elapsed_hours = round((time.time() - start) / 3600, 2)\n",
        "print(f\"Total run time: {elapsed_hours} hours across {total_pages} pages.\")"
      ]
    },
    {
      "cell_type": "markdown",
      "id": "054cf14b",
      "metadata": {
        "id": "054cf14b"
      },
      "source": [
        "---\n",
        "\n",
        "# Evaluation\n",
        "\n",
        "This assignment asks you to pull data by scraping www.AZLyrics.com.  After you have finished the above sections , run all the cells in this notebook. Print this to PDF and submit it, per the instructions."
      ]
    },
    {
      "cell_type": "code",
      "execution_count": 32,
      "id": "217c2b0a",
      "metadata": {
        "id": "217c2b0a"
      },
      "outputs": [],
      "source": [
        "def words(text):\n",
        "    \"\"\"Split text into lowercase words using regex.\"\"\"\n",
        "    return re.findall(r'\\w+', text.lower())"
      ]
    },
    {
      "cell_type": "markdown",
      "id": "37778a1c",
      "metadata": {
        "id": "37778a1c"
      },
      "source": [
        "## Checking Lyrics\n",
        "\n",
        "The output from your lyrics scrape should be stored in files located in this path from the directory:\n",
        "`/lyrics/[Artist Name]/[filename from URL]`. This code summarizes the information at a high level to help the instructor evaluate your work."
      ]
    },
    {
      "cell_type": "code",
      "execution_count": 34,
      "id": "bccac29c",
      "metadata": {
        "colab": {
          "base_uri": "https://localhost:8080/"
        },
        "id": "bccac29c",
        "outputId": "8974b62e-03c9-412d-b934-792fb5648fee"
      },
      "outputs": [
        {
          "output_type": "stream",
          "name": "stdout",
          "text": [
            "For billie_eilish we have 55 files.\n",
            "For billie_eilish we have roughly 14245 words, 840 are unique.\n",
            "\n",
            "For adele we have 20 files.\n",
            "For adele we have roughly 5977 words, 778 are unique.\n",
            "\n"
          ]
        }
      ],
      "source": [
        "artists = ['billie_eilish', 'adele']\n",
        "for artist in artists:\n",
        "    # Build the path to the artist’s lyrics folder\n",
        "    artist_dir = os.path.join('lyrics', artist)\n",
        "\n",
        "    # List only .txt files in that folder\n",
        "    artist_files = [\n",
        "        fname for fname in os.listdir(artist_dir)\n",
        "        if fname.lower().endswith('.txt')\n",
        "    ]\n",
        "\n",
        "    # Report how many lyric files we have\n",
        "    num_files = len(artist_files)\n",
        "    print(f\"For {artist} we have {num_files} files.\")\n",
        "\n",
        "    # Read each file, extract words, and accumulate\n",
        "    all_words = []\n",
        "    for fname in artist_files:\n",
        "        file_path = os.path.join(artist_dir, fname)\n",
        "        with open(file_path, encoding='utf-8') as infile:\n",
        "            text = infile.read()\n",
        "        all_words.extend(words(text))\n",
        "\n",
        "    # Compute total and unique word counts\n",
        "    total_words  = len(all_words)\n",
        "    unique_words = len(set(all_words))\n",
        "    print(f\"For {artist} we have roughly {total_words} words, {unique_words} are unique.\\n\")\n"
      ]
    }
  ],
  "metadata": {
    "kernelspec": {
      "display_name": "Python 3 (ipykernel)",
      "language": "python",
      "name": "python3"
    },
    "language_info": {
      "codemirror_mode": {
        "name": "ipython",
        "version": 3
      },
      "file_extension": ".py",
      "mimetype": "text/x-python",
      "name": "python",
      "nbconvert_exporter": "python",
      "pygments_lexer": "ipython3",
      "version": "3.8.11"
    },
    "colab": {
      "provenance": []
    }
  },
  "nbformat": 4,
  "nbformat_minor": 5
}